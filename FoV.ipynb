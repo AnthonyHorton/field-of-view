{
 "cells": [
  {
   "cell_type": "code",
   "execution_count": 1,
   "metadata": {
    "collapsed": true
   },
   "outputs": [],
   "source": [
    "%matplotlib inline"
   ]
  },
  {
   "cell_type": "code",
   "execution_count": 115,
   "metadata": {
    "collapsed": false
   },
   "outputs": [],
   "source": [
    "import matplotlib.pyplot as plt\n",
    "import numpy as np\n",
    "from astropy.wcs import WCS\n",
    "from astropy.coordinates import SkyCoord\n",
    "import astropy.units as u\n",
    "from astroquery.ned import Ned"
   ]
  },
  {
   "cell_type": "markdown",
   "metadata": {},
   "source": [
    "Create a simple template WCS approximating that of Huntsman. Doing it manually here, but could instead just extract one from the headers of an astrometrically calibrated Huntsman Eye FITS file."
   ]
  },
  {
   "cell_type": "code",
   "execution_count": 165,
   "metadata": {
    "collapsed": false
   },
   "outputs": [],
   "source": [
    "# SBIG STF-8300M resolution\n",
    "n_pix_x = 3326\n",
    "n_pix_y = 2504\n",
    "\n",
    "# 2 dimensional WCS; simple RA, dec tangent plane projection (should be right to within a percent or so)\n",
    "huntsman_wcs = WCS(naxis=2)\n",
    "huntsman_wcs.wcs.ctype = ['RA---TAN', 'DEC--TAN']\n",
    "\n",
    "# CCD resolution\n",
    "huntsman_wcs._naxis1 = n_pix_x\n",
    "huntsman_wcs._naxis2 = n_pix_y\n",
    "\n",
    "# Make centre of CCD the WCS reference poiunt\n",
    "huntsman_wcs.wcs.crpix = (n_pix_x/2, n_pix_y/2)\n",
    "\n",
    "# Approximate x, y pixel scale for Canon 2.8/400 + STF-8300M\n",
    "huntsman_wcs.wcs.cdelt = ((-2.84, 2.84) * u.arcsecond).to(u.degree)"
   ]
  },
  {
   "cell_type": "markdown",
   "metadata": {},
   "source": [
    "Check WCS by converting to FITS header format"
   ]
  },
  {
   "cell_type": "code",
   "execution_count": 166,
   "metadata": {
    "collapsed": false
   },
   "outputs": [
    {
     "data": {
      "text/plain": [
       "WCSAXES =                    2 / Number of coordinate axes                      \n",
       "CRPIX1  =               1663.0 / Pixel coordinate of reference point            \n",
       "CRPIX2  =               1252.0 / Pixel coordinate of reference point            \n",
       "CDELT1  = -0.00078888888888889 / [deg] Coordinate increment at reference point  \n",
       "CDELT2  =  0.00078888888888889 / [deg] Coordinate increment at reference point  \n",
       "CUNIT1  = 'deg'                / Units of coordinate increment and value        \n",
       "CUNIT2  = 'deg'                / Units of coordinate increment and value        \n",
       "CTYPE1  = 'RA---TAN'           / Right ascension, gnomonic projection           \n",
       "CTYPE2  = 'DEC--TAN'           / Declination, gnomonic projection               \n",
       "CRVAL1  =                  0.0 / [deg] Coordinate value at reference point      \n",
       "CRVAL2  =                  0.0 / [deg] Coordinate value at reference point      \n",
       "LONPOLE =                180.0 / [deg] Native longitude of celestial pole       \n",
       "LATPOLE =                  0.0 / [deg] Native latitude of celestial pole        \n",
       "RADESYS = 'ICRS'               / Equatorial coordinate system                   "
      ]
     },
     "execution_count": 166,
     "metadata": {},
     "output_type": "execute_result"
    }
   ],
   "source": [
    "huntsman_wcs.to_header()"
   ]
  },
  {
   "cell_type": "markdown",
   "metadata": {},
   "source": [
    "Random field centre, close to the SCP."
   ]
  },
  {
   "cell_type": "code",
   "execution_count": 167,
   "metadata": {
    "collapsed": true
   },
   "outputs": [],
   "source": [
    "field_centre = SkyCoord(\"4h23m15s -85d12m31.2s\")"
   ]
  },
  {
   "cell_type": "code",
   "execution_count": 168,
   "metadata": {
    "collapsed": false
   },
   "outputs": [
    {
     "data": {
      "text/plain": [
       "<SkyCoord (ICRS): (ra, dec) in deg\n",
       "    ( 65.8125, -85.20866667)>"
      ]
     },
     "execution_count": 168,
     "metadata": {},
     "output_type": "execute_result"
    }
   ],
   "source": [
    "field_centre"
   ]
  },
  {
   "cell_type": "markdown",
   "metadata": {},
   "source": [
    "Set WCS reference coordinates to field centre coordinates"
   ]
  },
  {
   "cell_type": "code",
   "execution_count": 169,
   "metadata": {
    "collapsed": false
   },
   "outputs": [],
   "source": [
    "huntsman_wcs.wcs.crval = [field_centre.ra.value, field_centre.dec.value]"
   ]
  },
  {
   "cell_type": "markdown",
   "metadata": {},
   "source": [
    "Can directly calculate the RA, dec coordinates (in degrees) of the corners of the field of view."
   ]
  },
  {
   "cell_type": "code",
   "execution_count": 170,
   "metadata": {
    "collapsed": false
   },
   "outputs": [
    {
     "data": {
      "text/plain": [
       "array([[ 84.83804573, -85.97633365],\n",
       "       [ 78.61461647, -84.07479132],\n",
       "       [ 53.00293474, -84.07461747],\n",
       "       [ 46.77633068, -85.97607715]])"
      ]
     },
     "execution_count": 170,
     "metadata": {},
     "output_type": "execute_result"
    }
   ],
   "source": [
    "huntsman_wcs.calc_footprint()"
   ]
  },
  {
   "cell_type": "markdown",
   "metadata": {},
   "source": [
    "For a rigourous check of whether an astronomical object is within the field of view or not can calculate its position on the CCD in pixel coordinates and check it's within the bounds of the CCD.\n",
    "\n",
    "For an example fetch a set of 42 (!) low redshift objects from NED"
   ]
  },
  {
   "cell_type": "code",
   "execution_count": null,
   "metadata": {
    "collapsed": true
   },
   "outputs": [],
   "source": [
    "galaxies = Ned.query_region(field_centre, radius = 100 * u.arcminute)"
   ]
  },
  {
   "cell_type": "code",
   "execution_count": 189,
   "metadata": {
    "collapsed": false
   },
   "outputs": [],
   "source": [
    "# Filter to select only galaxies with a redshift, and only between 0 and 0.2\n",
    "def redshift_filter(table, key_colnames):\n",
    "    if np.any(table['Redshift'] > 0) and np.any(table['Redshift'] < 0.2):\n",
    "        return True\n",
    "    else:\n",
    "        return False"
   ]
  },
  {
   "cell_type": "code",
   "execution_count": 188,
   "metadata": {
    "collapsed": false
   },
   "outputs": [],
   "source": [
    "galaxies_grouped = galaxies.group_by(('No.', 'Object Name'))\n",
    "filtered_galaxies = galaxies_grouped.groups.filter(redshift_filter)\n",
    "filtered_galaxies['RA(deg)'].unit = u.degree\n",
    "filtered_galaxies['DEC(deg)'].unit = u.degree\n",
    "len(filtered_galaxies)"
   ]
  },
  {
   "cell_type": "markdown",
   "metadata": {},
   "source": [
    "Now filter again based on pixel coordinates. First use WCS to convert RA, dec of galaxies to pixel coordinates on the CCD"
   ]
  },
  {
   "cell_type": "code",
   "execution_count": 191,
   "metadata": {
    "collapsed": false
   },
   "outputs": [],
   "source": [
    "filtered_galaxies_pixels = huntsman_wcs.all_world2pix(np.array((filtered_galaxies['RA(deg)'], filtered_galaxies['DEC(deg)'])).T, 0)"
   ]
  },
  {
   "cell_type": "markdown",
   "metadata": {},
   "source": [
    "Then check which pairs of pixel coordinate actually fall within the CCD."
   ]
  },
  {
   "cell_type": "code",
   "execution_count": 216,
   "metadata": {
    "collapsed": false
   },
   "outputs": [],
   "source": [
    "# Filter to check is pixel coordinates are withing\n",
    "def pixels_in_fov(coords):\n",
    "    x_check = np.logical_and(coords[:,0] > 0, coords[:,0] < n_pix_x)\n",
    "    y_check = np.logical_and(coords[:,1] > 0, coords[:,1] < n_pix_y)\n",
    "    return np.logical_and(x_check, y_check)"
   ]
  },
  {
   "cell_type": "code",
   "execution_count": 222,
   "metadata": {
    "collapsed": false
   },
   "outputs": [],
   "source": [
    "good_galaxies = filtered_galaxies_pixels[np.where(pixels_in_fov(filtered_galaxies_pixels))]\n",
    "bad_galaxies = filtered_galaxies_pixels[np.where(np.logical_not(pixels_in_fov(filtered_galaxies_pixels)))]"
   ]
  },
  {
   "cell_type": "markdown",
   "metadata": {},
   "source": [
    "Finally produce a plot illustrating the results using the WCSAxes functionality integrated into astropy 1.3 (http://docs.astropy.org/en/stable/visualization/wcsaxes/index.html)"
   ]
  },
  {
   "cell_type": "code",
   "execution_count": 234,
   "metadata": {
    "collapsed": false
   },
   "outputs": [
    {
     "data": {
      "image/png": "[encoded data removed]",
      "text/plain": [
       "<matplotlib.figure.Figure at 0x7f7ea046bc18>"
      ]
     },
     "metadata": {},
     "output_type": "display_data"
    }
   ],
   "source": [
    "ax = plt.subplot(projection=huntsman_wcs)\n",
    "# A dummy data array to highlight the Huntsman FoV\n",
    "ax.imshow(np.ones((n_pix_y, n_pix_x)), cmap='cubehelix', vmin=0, vmax=1.1)\n",
    "# Overlay coordinate grids in world coordinates (RA, dec)\n",
    "ax.grid()\n",
    "# Plot positions of galaxies. Plotting commands operate in pixel coordinates\n",
    "# by default but can plot using RA, dec by using transform=ax.get_transform('world')\n",
    "ax.scatter(good_galaxies.T[0], good_galaxies.T[1], marker='*', color='g')\n",
    "ax.scatter(bad_galaxies.T[0], bad_galaxies.T[1], marker='*', color='r')\n",
    "plt.xlim(-600,n_pix_x+600)\n",
    "plt.ylim(-600,n_pix_y+600)\n",
    "ax.coords[0].set_axislabel('Right Ascension')\n",
    "ax.coords[0].set_major_formatter('hh')\n",
    "ax.coords[1].set_axislabel('declination')\n",
    "ax.coords[1].set_major_formatter('dd')\n",
    "plt.title('Huntsman FoV centred on 4h23m15s -85d12m31.2s')\n",
    "plt.gcf().set_size_inches(12,8)\n",
    "plt.savefig('huntsman_fov.png')"
   ]
  },
  {
   "cell_type": "code",
   "execution_count": null,
   "metadata": {
    "collapsed": true
   },
   "outputs": [],
   "source": []
  }
 ],
 "metadata": {
  "kernelspec": {
   "display_name": "Python 3",
   "language": "python",
   "name": "python3"
  },
  "language_info": {
   "codemirror_mode": {
    "name": "ipython",
    "version": 3
   },
   "file_extension": ".py",
   "mimetype": "text/x-python",
   "name": "python",
   "nbconvert_exporter": "python",
   "pygments_lexer": "ipython3",
   "version": "3.5.2"
  }
 },
 "nbformat": 4,
 "nbformat_minor": 2
}
